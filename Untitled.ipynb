{
 "cells": [
  {
   "cell_type": "code",
   "execution_count": 1,
   "id": "8321517d",
   "metadata": {},
   "outputs": [
    {
     "ename": "SyntaxError",
     "evalue": "invalid syntax (<ipython-input-1-6b90460267d3>, line 2)",
     "output_type": "error",
     "traceback": [
      "\u001b[1;36m  File \u001b[1;32m\"<ipython-input-1-6b90460267d3>\"\u001b[1;36m, line \u001b[1;32m2\u001b[0m\n\u001b[1;33m    100 x 1\u001b[0m\n\u001b[1;37m        ^\u001b[0m\n\u001b[1;31mSyntaxError\u001b[0m\u001b[1;31m:\u001b[0m invalid syntax\n"
     ]
    }
   ],
   "source": [
    "125\n",
    "100 x 1\n",
    "10 x 2\n",
    "5 x 1\n",
    "\n",
    "\n"
   ]
  },
  {
   "cell_type": "code",
   "execution_count": 52,
   "id": "3b65805f",
   "metadata": {},
   "outputs": [],
   "source": [
    "#　totalを入れて、コイン・紙幣の最小を出力する。\n",
    "def smallestCoinAmount(total):\n",
    "    \n",
    "    #  数えるために変数を作る\n",
    "    tenThousandYenBill = 0\n",
    "    fiveThousandYenBill = 0\n",
    "    thousandYenBill = 0\n",
    "    fiveHundredYenCoin = 0\n",
    "    hundredYenCoin = 0\n",
    "    tenYenCoin = 0\n",
    "    fiveYenCoin = 0\n",
    "    oneYenCoin = 0\n",
    "    \n",
    "    # ゼロまで引くための変数を作る\n",
    "    amountLeft = total\n",
    "    \n",
    "    # amountLeftはゼロになるまで、円のコイン・紙幣を引いて、そのコイン・紙幣を数える。\n",
    "    while amountLeft > 1:\n",
    "        # print(\"Entered while loop.\")\n",
    "        # print(amountLeft)\n",
    "        #if amountLeft % 10000:\n",
    "        #    amountLeft // 1000\n",
    "        \n",
    "        while (amountLeft - 10000) > 0:\n",
    "            # print(\"Subracting 10000\")\n",
    "            amountLeft -= 10000\n",
    "            tenThousandYenBill = tenThousandYenBill + 1\n",
    "            \n",
    "        while (amountLeft - 5000) > 0:\n",
    "            # print(\"Subracting 5000\")\n",
    "            amountLeft -= 5000\n",
    "            fiveThousandYenBill = fiveThousandYenBill + 1\n",
    "            \n",
    "        while (amountLeft - 1000) > 0:\n",
    "            # print(\"Subracting 1000\")\n",
    "            amountLeft -= 1000\n",
    "            thousandYenBill = thousandYenBill + 1\n",
    "            \n",
    "        while (amountLeft - 500) > 0:\n",
    "            # print(\"Subracting 500\")\n",
    "            amountLeft -= 500\n",
    "            fiveHundredYenCoin = fiveHundredYenCoin + 1\n",
    "            \n",
    "        while (amountLeft - 10) > 0:\n",
    "            # print(\"Subracting 10\")\n",
    "            amountLeft -= 10\n",
    "            tenYenCoin = tenYenCoin + 1\n",
    "            \n",
    "        while (amountLeft - 5) > 0:\n",
    "            # print(\"Subracting 5\")\n",
    "            amountLeft -= 5\n",
    "            fiveYenCoin = fiveYenCoin + 1\n",
    "            \n",
    "        while amountLeft > 0:\n",
    "            # print(\"Subracting 1\")\n",
    "            amountLeft -= 1\n",
    "            oneYenCoin = oneYenCoin + 1\n",
    "            print(amountLeft)\n",
    "    \n",
    "    print(\"コイン・紙幣の最小は\" + str(tenThousandYenBill) + \"万円札と\" + str(fiveThousandYenBill) \n",
    "           + \"五千円札と\" + str(thousandYenBill) + \"千円札と\" + str(fiveHundredYenCoin) \n",
    "           + \"五百円札と\" + str(tenYenCoin) + \"十円玉\" + str(fiveYenCoin) + \"五円玉と\" + str(oneYenCoin) + \"一円玉です。\")\n",
    "    "
   ]
  },
  {
   "cell_type": "code",
   "execution_count": 53,
   "id": "9ae70af5",
   "metadata": {},
   "outputs": [
    {
     "name": "stdout",
     "output_type": "stream",
     "text": [
      "2\n",
      "1\n",
      "0\n",
      "コイン・紙幣の最小は4万円札と1五千円札と0千円札と1五百円札と4十円玉1五円玉と3一円玉です。\n"
     ]
    }
   ],
   "source": [
    "smallestCoinAmount(45548)"
   ]
  },
  {
   "cell_type": "code",
   "execution_count": null,
   "id": "e57d12c3",
   "metadata": {},
   "outputs": [],
   "source": []
  },
  {
   "cell_type": "code",
   "execution_count": null,
   "id": "ab9558c7",
   "metadata": {},
   "outputs": [],
   "source": []
  },
  {
   "cell_type": "code",
   "execution_count": null,
   "id": "46ef5c05",
   "metadata": {},
   "outputs": [],
   "source": []
  },
  {
   "cell_type": "code",
   "execution_count": null,
   "id": "93ca1d75",
   "metadata": {},
   "outputs": [],
   "source": []
  },
  {
   "cell_type": "code",
   "execution_count": 20,
   "id": "0c3305cf",
   "metadata": {},
   "outputs": [
    {
     "data": {
      "text/plain": [
       "3"
      ]
     },
     "execution_count": 20,
     "metadata": {},
     "output_type": "execute_result"
    }
   ],
   "source": []
  }
 ],
 "metadata": {
  "kernelspec": {
   "display_name": "Python 3",
   "language": "python",
   "name": "python3"
  },
  "language_info": {
   "codemirror_mode": {
    "name": "ipython",
    "version": 3
   },
   "file_extension": ".py",
   "mimetype": "text/x-python",
   "name": "python",
   "nbconvert_exporter": "python",
   "pygments_lexer": "ipython3",
   "version": "3.8.8"
  }
 },
 "nbformat": 4,
 "nbformat_minor": 5
}
